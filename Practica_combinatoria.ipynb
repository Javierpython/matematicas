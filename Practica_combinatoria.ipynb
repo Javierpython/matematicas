{
  "nbformat": 4,
  "nbformat_minor": 0,
  "metadata": {
    "colab": {
      "provenance": [],
      "include_colab_link": true
    },
    "kernelspec": {
      "name": "python3",
      "display_name": "Python 3"
    },
    "language_info": {
      "name": "python"
    }
  },
  "cells": [
    {
      "cell_type": "markdown",
      "metadata": {
        "id": "view-in-github",
        "colab_type": "text"
      },
      "source": [
        "<a href=\"https://colab.research.google.com/github/Javierpython/matematicas/blob/main/Practica_combinatoria.ipynb\" target=\"_parent\"><img src=\"https://colab.research.google.com/assets/colab-badge.svg\" alt=\"Open In Colab\"/></a>"
      ]
    },
    {
      "cell_type": "markdown",
      "source": [
        "# Práctica 1. Combinatoria\n",
        "Resuelva los siguientes apartados de la práctica.  \n",
        "La práctica 1.1 se proporciona solucionada para que pueda servir como ejemplo.\n"
      ],
      "metadata": {
        "id": "VP-PLgSCPtPC"
      }
    },
    {
      "cell_type": "markdown",
      "source": [
        "## Práctica 1.1\n",
        "Cuatro amigos:\n",
        "* Antonio (A)\n",
        "* Begoña (B)\n",
        "* Cesar (C)\n",
        "* Diana (D)\n",
        "\n",
        "constituyen una asociación y tienen que asignar los siguientes cargos:\n",
        "* Presiente (1)\n",
        "* Vicepresidente (2)\n",
        "* Secretario (3)\n",
        "* Tesorero (4)\n",
        "\n",
        "Se pide:\n",
        "1. Escribiendo la solución en una celda de Markdown analice el caso indicando si se trata de variaciones, permutaciones o combinaciones, con o sin repetición o el caso que sea, y el motivo para clasificar el caso de esta forma.\n",
        "2. Utilizando fórmulas de $\\LaTeX$ calcule cuántos casos existen.\n",
        "3. Cree un programa en Python para calcule cuántos casos existen.\n",
        "4. Cree un programa en Python para imprimir todas las posibilidades y numérelas. Por ejemplo:\n",
        "    - 1 ABCD\n",
        "    - 2 ABDC\n",
        "    - 3 ACBD\n",
        "    - &#20; &#20; &#20; ... ... ..."
      ],
      "metadata": {
        "id": "6oyoxqfbQJDC"
      }
    },
    {
      "cell_type": "markdown",
      "source": [
        "### Solución 1.1\n",
        "* Estamos ante un caso de **permutaciones sin repetición** ya que:\n",
        " - El orden importa, no es lo mismo estar el nº1 que significa ser presidente que el nº 4 que corresponde al tesorero.\n",
        " - Intervienen todos. Son 4 amigos para 4 cargos, todos tienen cargo, lo que cambiar es el orden, esto es, el cargo que obtengan.\n",
        " - No se repiten elementos. Una persona no puede tener dos cargos simultaneamente.\n",
        "* Los casos que se obtienen con las permutaciones sin repetición son $P_{n}=n!$ que para este ejemplo son:\n",
        "\n",
        "$$P_{4}=4!=4 \\cdot 3 \\cdot 2 \\cdot 1 = 24$$"
      ],
      "metadata": {
        "id": "t5unIqR7jdZR"
      }
    },
    {
      "cell_type": "code",
      "source": [
        "import math\n",
        "p = math.factorial(4)\n",
        "print(\"Los casos son: \", p)\n",
        "print(\"Comprobación:  \", 4*3*2*1)"
      ],
      "metadata": {
        "id": "va3_l_-hmFS-"
      },
      "execution_count": null,
      "outputs": []
    },
    {
      "cell_type": "markdown",
      "source": [
        "#### Método 1\n",
        "Sin usar librería."
      ],
      "metadata": {
        "id": "kOM3pEAGnh8v"
      }
    },
    {
      "cell_type": "code",
      "source": [
        "lista = ['A', 'B', 'C', 'D']\n",
        "contador = 1\n",
        "\n",
        "for i in lista:\n",
        "    for j in lista:\n",
        "        for k in lista:\n",
        "            for l in lista:\n",
        "                if i != j and i != k and i != l and j != k and j != l and k != l:\n",
        "                    print(f\"{contador:2d} →  {i+j+k+l}\")\n",
        "                    contador += 1"
      ],
      "metadata": {
        "id": "5--ZpSoJncj3"
      },
      "execution_count": null,
      "outputs": []
    },
    {
      "cell_type": "markdown",
      "source": [
        "#### Método 2\n",
        "* Usamos la función `permutations` de la librería `itertools`.\n",
        "* Imprimimos todas las permutaciones de los elementos de una lista."
      ],
      "metadata": {
        "id": "2PoCD5GlnwS1"
      }
    },
    {
      "cell_type": "code",
      "source": [
        "from itertools import permutations\n",
        "\n",
        "perm = permutations(['A','B','C','D'])   # obtenemos todas las permutaciones de la lista \n",
        "\n",
        "for i in list(perm):                     # imprimimos todas las permutaciones \n",
        "    print (*i)                           # con el asterisco se muestran las listas sin corchetes ni comas"
      ],
      "metadata": {
        "id": "eKkB1gQnn6_P"
      },
      "execution_count": null,
      "outputs": []
    },
    {
      "cell_type": "markdown",
      "source": [
        "## Práctica 1.2\n",
        "Cuatro amigos:\n",
        "* Antonio (A)\n",
        "* Begoña (B)\n",
        "* Cesar (C)\n",
        "* Diana (D)\n",
        "\n",
        "constituyen una asociación y tienen que asignar los siguientes cargos:\n",
        "* Presiente (1)\n",
        "* Secretario (3)\n",
        "* Tesorero (4)\n",
        "\n",
        "Se pide:\n",
        "1. Escribiendo la solución en una celda de Markdown analice el caso indicando si se trata de variaciones, permutaciones o combinaciones, con o sin repetición o el caso que sea, y el motivo para clasificar el caso de esta forma.\n",
        "2. Utilizando fórmulas de $\\LaTeX$ calcule cuántos casos existen.\n",
        "3. Cree un programa en Python para calcule cuántos casos existen.\n",
        "4. Cree un programa en Python para imprimir todas las posibilidades y numérelas. Por ejemplo:\n",
        "    - 1 ABC\n",
        "    - 2 ABD\n",
        "    - 3 ACB\n",
        "    - &#20; &#20; &#20; ... ... ..."
      ],
      "metadata": {
        "id": "sxSuCpAFSBPJ"
      }
    },
    {
      "cell_type": "markdown",
      "source": [
        "### Solución 1.2\n"
      ],
      "metadata": {
        "id": "xx9qsw_ej9Pd"
      }
    },
    {
      "cell_type": "markdown",
      "source": [],
      "metadata": {
        "id": "VZWoG0SklDrH"
      }
    },
    {
      "cell_type": "markdown",
      "source": [
        "Se da el caso en el que 4 personas tienen que decidir que posiciones tomar en una fila de asientos sabiendo que no puede haber 2 en uno cuantos casos hay"
      ],
      "metadata": {
        "id": "sIQaa3O5lFBH"
      }
    },
    {
      "cell_type": "code",
      "source": [
        "lista = ['A', 'B', 'C', 'D'] #EJERCICIO 1 COMBINATORIA\n",
        "contador = 1\n",
        "enumerate(lista)\n",
        "for i in lista:\n",
        "    for j in lista:\n",
        "        for k in lista:\n",
        "            for l in lista:\n",
        "                if i != j and i != k and i != l and j != k and j != l and k != l:\n",
        "                    print(f\"{contador:2d} →  {i+j+k+l}\")\n",
        "                    contador += 1"
      ],
      "metadata": {
        "colab": {
          "base_uri": "https://localhost:8080/"
        },
        "id": "S1-NMYTrZnV9",
        "outputId": "2650b403-a74b-4b18-a72f-17c1c8bf6a82"
      },
      "execution_count": null,
      "outputs": [
        {
          "output_type": "stream",
          "name": "stdout",
          "text": [
            " 1 →  ABCD\n",
            " 2 →  ABDC\n",
            " 3 →  ACBD\n",
            " 4 →  ACDB\n",
            " 5 →  ADBC\n",
            " 6 →  ADCB\n",
            " 7 →  BACD\n",
            " 8 →  BADC\n",
            " 9 →  BCAD\n",
            "10 →  BCDA\n",
            "11 →  BDAC\n",
            "12 →  BDCA\n",
            "13 →  CABD\n",
            "14 →  CADB\n",
            "15 →  CBAD\n",
            "16 →  CBDA\n",
            "17 →  CDAB\n",
            "18 →  CDBA\n",
            "19 →  DABC\n",
            "20 →  DACB\n",
            "21 →  DBAC\n",
            "22 →  DBCA\n",
            "23 →  DCAB\n",
            "24 →  DCBA\n"
          ]
        }
      ]
    },
    {
      "cell_type": "markdown",
      "source": [
        "## Práctica 1.3\n",
        "Invente un caso de **variaciones sin repetición**.\n",
        "Se pide contestar a los mismos puntos que el caso anterior."
      ],
      "metadata": {
        "id": "D0S1DjF4MKmz"
      }
    },
    {
      "cell_type": "markdown",
      "source": [
        "### Solución 1.3"
      ],
      "metadata": {
        "id": "AfyuPIASj_20"
      }
    },
    {
      "cell_type": "markdown",
      "source": [
        "¿Cuántos números de cuatro cifras (todas distintas) se pueden formar con los números 1, 2, 3, 4, 5?\n",
        "\n",
        "Estamos ante un caso de variaciones sin repetición ya que:\n",
        "No intervienen todos los elementos. Solo tomaremos cuatro de las cinco númerospara realizar las combinaciones.\n",
        "El orden importa ya que no es lo mismo 124 que 4321.\n",
        "Son sin repetición ya que si un número es utilizado, queda descartado. Esto sucede porque todas las cifras deben ser distintas."
      ],
      "metadata": {
        "id": "FXu6luDRkxb_"
      }
    },
    {
      "cell_type": "code",
      "source": [
        "import itertools\n",
        "it = itertools.permutations(['1','2','3','4','5'],4)\n",
        "li = list(it)\n",
        "\n",
        "print()\n",
        "\n",
        "for i in range(len(li)):\n",
        "    print(f\"Variación {i+1:2d}: \", *li[i])"
      ],
      "metadata": {
        "id": "WomQNxwvZyus"
      },
      "execution_count": null,
      "outputs": []
    },
    {
      "cell_type": "markdown",
      "source": [
        "## Práctica 1.4\n",
        "Invente un caso de **variaciones con repetición**.\n",
        "Se pide contestar a los mismos puntos que el caso anterior."
      ],
      "metadata": {
        "id": "gvlnqCaRMTua"
      }
    },
    {
      "cell_type": "markdown",
      "source": [
        "### Solución 1.4"
      ],
      "metadata": {
        "id": "hzvsgRDbkCy1"
      }
    },
    {
      "cell_type": "markdown",
      "source": [
        "\n",
        "Estamos ante un caso de variaciones con repetición ya que:\n",
        "No intervienen todos los elementos. Solo tomaremos dos o uno de los cinco números para realizar las combinaciones.\n",
        "El orden importa ya que no es lo mismo 69 que 96 al menos que les des la vuelta ;d .\n",
        "Son con repetición ya que un número puede ser tomado dos veces para formar el dígito con dos cifras, por ejemplo 22."
      ],
      "metadata": {
        "id": "gWCXF86IkFyf"
      }
    },
    {
      "cell_type": "code",
      "source": [
        "import itertools \n",
        "\n",
        "def variaciones_con_repeticion(n, seq):\n",
        "      contador=0\n",
        "      for p in itertools.product(seq, repeat=n):\n",
        "            contador+= 1\n",
        "            print(contador, \"\".join(p))\n",
        "\n",
        "secuencia = '12345'\n",
        "m= len(secuencia)\n",
        "n= 2\n",
        "variaciones_con_repeticion(n,secuencia)\n",
        "\n",
        "print(f\"El número de variaciones con repetición de {m} elementos tomados de {n} en {n} son {m**n}\")"
      ],
      "metadata": {
        "colab": {
          "base_uri": "https://localhost:8080/"
        },
        "id": "3xNG5G_BZ8ac",
        "outputId": "8df9e885-19fd-44cb-f7af-96277ff6fe09"
      },
      "execution_count": null,
      "outputs": [
        {
          "output_type": "stream",
          "name": "stdout",
          "text": [
            "1 11\n",
            "2 12\n",
            "3 13\n",
            "4 14\n",
            "5 15\n",
            "6 21\n",
            "7 22\n",
            "8 23\n",
            "9 24\n",
            "10 25\n",
            "11 31\n",
            "12 32\n",
            "13 33\n",
            "14 34\n",
            "15 35\n",
            "16 41\n",
            "17 42\n",
            "18 43\n",
            "19 44\n",
            "20 45\n",
            "21 51\n",
            "22 52\n",
            "23 53\n",
            "24 54\n",
            "25 55\n",
            "El número de variaciones con repetición de 5 elementos tomados de 2 en 2 son 25\n"
          ]
        }
      ]
    },
    {
      "cell_type": "markdown",
      "source": [],
      "metadata": {
        "id": "xH3g0ajSZ8GU"
      }
    },
    {
      "cell_type": "markdown",
      "source": [
        "## Práctica 1.5\n",
        "Invente un caso de **permutaciones sin repetición**.\n",
        "Se pide contestar a los mismos puntos que el caso anterior."
      ],
      "metadata": {
        "id": "0OCAC-I-G5F6"
      }
    },
    {
      "cell_type": "markdown",
      "source": [
        "### Solución 1.5"
      ],
      "metadata": {
        "id": "FvLcj6XXkFOV"
      }
    },
    {
      "cell_type": "markdown",
      "source": [
        "Ana (A) Bohuelo (B) Carlos (C) Se quieren disponer en una mesa con 3 sillas ¿Cuáles son las maneras posibles? Estamos ante un caso de permutaciones sin repetición ya que:\n",
        "\n",
        "El orden importa, no es lo mismo estar en la silla nº1, que en la silla nº2. Intervienen todas. Son 3 hermanas para 3 sillas, todas tienen un puesto. No se repiten elementos. Una hermana no se puede sentar en dos sillas al mismo tiempo"
      ],
      "metadata": {
        "id": "9JXae9mujzsm"
      }
    },
    {
      "cell_type": "code",
      "source": [
        "lista = ['A', 'B', 'C']\n",
        "contador = 1\n",
        "\n",
        "for i in lista:\n",
        "    for j in lista:\n",
        "        for k in lista:\n",
        "\n",
        "                if i != j and i != k and j != k :\n",
        "                    print(f\"{contador:2d} →  {i+j+k}\")\n",
        "                    contador += 1"
      ],
      "metadata": {
        "colab": {
          "base_uri": "https://localhost:8080/"
        },
        "id": "GCtVL9mYaBDl",
        "outputId": "96341171-94de-4b2f-cb2e-9b3d2edee64a"
      },
      "execution_count": null,
      "outputs": [
        {
          "output_type": "stream",
          "name": "stdout",
          "text": [
            " 1 →  ABC\n",
            " 2 →  ACB\n",
            " 3 →  BAC\n",
            " 4 →  BCA\n",
            " 5 →  CAB\n",
            " 6 →  CBA\n"
          ]
        }
      ]
    },
    {
      "cell_type": "markdown",
      "source": [
        "## Práctica 1.6\n",
        "Invente un caso de **permutaciones con repetición**.\n",
        "Se pide contestar a los mismos puntos que el caso anterior."
      ],
      "metadata": {
        "id": "YWUXIczqLj3W"
      }
    },
    {
      "cell_type": "markdown",
      "source": [
        "### Solución 1.6"
      ],
      "metadata": {
        "id": "siAxWVVekHs6"
      }
    },
    {
      "cell_type": "markdown",
      "source": [
        "Consta de un grupo que va a competir en 4 categorias, siendo 4 personas los casos que podrá haber sabiendo que todos los competidores pueden ganar en más de una."
      ],
      "metadata": {
        "id": "xyTbkv13hgwG"
      }
    },
    {
      "cell_type": "code",
      "source": [
        "lista = ['Juan ', 'Pedro ', 'Miguel ', 'Luis ']\n",
        "\n",
        "for i in lista:\n",
        "    for j in lista:\n",
        "        for k in lista:\n",
        "            for l in lista:\n",
        "                print(i + j + k + l)"
      ],
      "metadata": {
        "id": "rCLSlJl3q82g",
        "outputId": "40f1f95d-a7b5-4e68-909c-a4e4ad55866c",
        "colab": {
          "base_uri": "https://localhost:8080/"
        }
      },
      "execution_count": null,
      "outputs": [
        {
          "output_type": "stream",
          "name": "stdout",
          "text": [
            "Juan Juan Juan Juan \n",
            "Juan Juan Juan Pedro \n",
            "Juan Juan Juan Miguel \n",
            "Juan Juan Juan Luis \n",
            "Juan Juan Pedro Juan \n",
            "Juan Juan Pedro Pedro \n",
            "Juan Juan Pedro Miguel \n",
            "Juan Juan Pedro Luis \n",
            "Juan Juan Miguel Juan \n",
            "Juan Juan Miguel Pedro \n",
            "Juan Juan Miguel Miguel \n",
            "Juan Juan Miguel Luis \n",
            "Juan Juan Luis Juan \n",
            "Juan Juan Luis Pedro \n",
            "Juan Juan Luis Miguel \n",
            "Juan Juan Luis Luis \n",
            "Juan Pedro Juan Juan \n",
            "Juan Pedro Juan Pedro \n",
            "Juan Pedro Juan Miguel \n",
            "Juan Pedro Juan Luis \n",
            "Juan Pedro Pedro Juan \n",
            "Juan Pedro Pedro Pedro \n",
            "Juan Pedro Pedro Miguel \n",
            "Juan Pedro Pedro Luis \n",
            "Juan Pedro Miguel Juan \n",
            "Juan Pedro Miguel Pedro \n",
            "Juan Pedro Miguel Miguel \n",
            "Juan Pedro Miguel Luis \n",
            "Juan Pedro Luis Juan \n",
            "Juan Pedro Luis Pedro \n",
            "Juan Pedro Luis Miguel \n",
            "Juan Pedro Luis Luis \n",
            "Juan Miguel Juan Juan \n",
            "Juan Miguel Juan Pedro \n",
            "Juan Miguel Juan Miguel \n",
            "Juan Miguel Juan Luis \n",
            "Juan Miguel Pedro Juan \n",
            "Juan Miguel Pedro Pedro \n",
            "Juan Miguel Pedro Miguel \n",
            "Juan Miguel Pedro Luis \n",
            "Juan Miguel Miguel Juan \n",
            "Juan Miguel Miguel Pedro \n",
            "Juan Miguel Miguel Miguel \n",
            "Juan Miguel Miguel Luis \n",
            "Juan Miguel Luis Juan \n",
            "Juan Miguel Luis Pedro \n",
            "Juan Miguel Luis Miguel \n",
            "Juan Miguel Luis Luis \n",
            "Juan Luis Juan Juan \n",
            "Juan Luis Juan Pedro \n",
            "Juan Luis Juan Miguel \n",
            "Juan Luis Juan Luis \n",
            "Juan Luis Pedro Juan \n",
            "Juan Luis Pedro Pedro \n",
            "Juan Luis Pedro Miguel \n",
            "Juan Luis Pedro Luis \n",
            "Juan Luis Miguel Juan \n",
            "Juan Luis Miguel Pedro \n",
            "Juan Luis Miguel Miguel \n",
            "Juan Luis Miguel Luis \n",
            "Juan Luis Luis Juan \n",
            "Juan Luis Luis Pedro \n",
            "Juan Luis Luis Miguel \n",
            "Juan Luis Luis Luis \n",
            "Pedro Juan Juan Juan \n",
            "Pedro Juan Juan Pedro \n",
            "Pedro Juan Juan Miguel \n",
            "Pedro Juan Juan Luis \n",
            "Pedro Juan Pedro Juan \n",
            "Pedro Juan Pedro Pedro \n",
            "Pedro Juan Pedro Miguel \n",
            "Pedro Juan Pedro Luis \n",
            "Pedro Juan Miguel Juan \n",
            "Pedro Juan Miguel Pedro \n",
            "Pedro Juan Miguel Miguel \n",
            "Pedro Juan Miguel Luis \n",
            "Pedro Juan Luis Juan \n",
            "Pedro Juan Luis Pedro \n",
            "Pedro Juan Luis Miguel \n",
            "Pedro Juan Luis Luis \n",
            "Pedro Pedro Juan Juan \n",
            "Pedro Pedro Juan Pedro \n",
            "Pedro Pedro Juan Miguel \n",
            "Pedro Pedro Juan Luis \n",
            "Pedro Pedro Pedro Juan \n",
            "Pedro Pedro Pedro Pedro \n",
            "Pedro Pedro Pedro Miguel \n",
            "Pedro Pedro Pedro Luis \n",
            "Pedro Pedro Miguel Juan \n",
            "Pedro Pedro Miguel Pedro \n",
            "Pedro Pedro Miguel Miguel \n",
            "Pedro Pedro Miguel Luis \n",
            "Pedro Pedro Luis Juan \n",
            "Pedro Pedro Luis Pedro \n",
            "Pedro Pedro Luis Miguel \n",
            "Pedro Pedro Luis Luis \n",
            "Pedro Miguel Juan Juan \n",
            "Pedro Miguel Juan Pedro \n",
            "Pedro Miguel Juan Miguel \n",
            "Pedro Miguel Juan Luis \n",
            "Pedro Miguel Pedro Juan \n",
            "Pedro Miguel Pedro Pedro \n",
            "Pedro Miguel Pedro Miguel \n",
            "Pedro Miguel Pedro Luis \n",
            "Pedro Miguel Miguel Juan \n",
            "Pedro Miguel Miguel Pedro \n",
            "Pedro Miguel Miguel Miguel \n",
            "Pedro Miguel Miguel Luis \n",
            "Pedro Miguel Luis Juan \n",
            "Pedro Miguel Luis Pedro \n",
            "Pedro Miguel Luis Miguel \n",
            "Pedro Miguel Luis Luis \n",
            "Pedro Luis Juan Juan \n",
            "Pedro Luis Juan Pedro \n",
            "Pedro Luis Juan Miguel \n",
            "Pedro Luis Juan Luis \n",
            "Pedro Luis Pedro Juan \n",
            "Pedro Luis Pedro Pedro \n",
            "Pedro Luis Pedro Miguel \n",
            "Pedro Luis Pedro Luis \n",
            "Pedro Luis Miguel Juan \n",
            "Pedro Luis Miguel Pedro \n",
            "Pedro Luis Miguel Miguel \n",
            "Pedro Luis Miguel Luis \n",
            "Pedro Luis Luis Juan \n",
            "Pedro Luis Luis Pedro \n",
            "Pedro Luis Luis Miguel \n",
            "Pedro Luis Luis Luis \n",
            "Miguel Juan Juan Juan \n",
            "Miguel Juan Juan Pedro \n",
            "Miguel Juan Juan Miguel \n",
            "Miguel Juan Juan Luis \n",
            "Miguel Juan Pedro Juan \n",
            "Miguel Juan Pedro Pedro \n",
            "Miguel Juan Pedro Miguel \n",
            "Miguel Juan Pedro Luis \n",
            "Miguel Juan Miguel Juan \n",
            "Miguel Juan Miguel Pedro \n",
            "Miguel Juan Miguel Miguel \n",
            "Miguel Juan Miguel Luis \n",
            "Miguel Juan Luis Juan \n",
            "Miguel Juan Luis Pedro \n",
            "Miguel Juan Luis Miguel \n",
            "Miguel Juan Luis Luis \n",
            "Miguel Pedro Juan Juan \n",
            "Miguel Pedro Juan Pedro \n",
            "Miguel Pedro Juan Miguel \n",
            "Miguel Pedro Juan Luis \n",
            "Miguel Pedro Pedro Juan \n",
            "Miguel Pedro Pedro Pedro \n",
            "Miguel Pedro Pedro Miguel \n",
            "Miguel Pedro Pedro Luis \n",
            "Miguel Pedro Miguel Juan \n",
            "Miguel Pedro Miguel Pedro \n",
            "Miguel Pedro Miguel Miguel \n",
            "Miguel Pedro Miguel Luis \n",
            "Miguel Pedro Luis Juan \n",
            "Miguel Pedro Luis Pedro \n",
            "Miguel Pedro Luis Miguel \n",
            "Miguel Pedro Luis Luis \n",
            "Miguel Miguel Juan Juan \n",
            "Miguel Miguel Juan Pedro \n",
            "Miguel Miguel Juan Miguel \n",
            "Miguel Miguel Juan Luis \n",
            "Miguel Miguel Pedro Juan \n",
            "Miguel Miguel Pedro Pedro \n",
            "Miguel Miguel Pedro Miguel \n",
            "Miguel Miguel Pedro Luis \n",
            "Miguel Miguel Miguel Juan \n",
            "Miguel Miguel Miguel Pedro \n",
            "Miguel Miguel Miguel Miguel \n",
            "Miguel Miguel Miguel Luis \n",
            "Miguel Miguel Luis Juan \n",
            "Miguel Miguel Luis Pedro \n",
            "Miguel Miguel Luis Miguel \n",
            "Miguel Miguel Luis Luis \n",
            "Miguel Luis Juan Juan \n",
            "Miguel Luis Juan Pedro \n",
            "Miguel Luis Juan Miguel \n",
            "Miguel Luis Juan Luis \n",
            "Miguel Luis Pedro Juan \n",
            "Miguel Luis Pedro Pedro \n",
            "Miguel Luis Pedro Miguel \n",
            "Miguel Luis Pedro Luis \n",
            "Miguel Luis Miguel Juan \n",
            "Miguel Luis Miguel Pedro \n",
            "Miguel Luis Miguel Miguel \n",
            "Miguel Luis Miguel Luis \n",
            "Miguel Luis Luis Juan \n",
            "Miguel Luis Luis Pedro \n",
            "Miguel Luis Luis Miguel \n",
            "Miguel Luis Luis Luis \n",
            "Luis Juan Juan Juan \n",
            "Luis Juan Juan Pedro \n",
            "Luis Juan Juan Miguel \n",
            "Luis Juan Juan Luis \n",
            "Luis Juan Pedro Juan \n",
            "Luis Juan Pedro Pedro \n",
            "Luis Juan Pedro Miguel \n",
            "Luis Juan Pedro Luis \n",
            "Luis Juan Miguel Juan \n",
            "Luis Juan Miguel Pedro \n",
            "Luis Juan Miguel Miguel \n",
            "Luis Juan Miguel Luis \n",
            "Luis Juan Luis Juan \n",
            "Luis Juan Luis Pedro \n",
            "Luis Juan Luis Miguel \n",
            "Luis Juan Luis Luis \n",
            "Luis Pedro Juan Juan \n",
            "Luis Pedro Juan Pedro \n",
            "Luis Pedro Juan Miguel \n",
            "Luis Pedro Juan Luis \n",
            "Luis Pedro Pedro Juan \n",
            "Luis Pedro Pedro Pedro \n",
            "Luis Pedro Pedro Miguel \n",
            "Luis Pedro Pedro Luis \n",
            "Luis Pedro Miguel Juan \n",
            "Luis Pedro Miguel Pedro \n",
            "Luis Pedro Miguel Miguel \n",
            "Luis Pedro Miguel Luis \n",
            "Luis Pedro Luis Juan \n",
            "Luis Pedro Luis Pedro \n",
            "Luis Pedro Luis Miguel \n",
            "Luis Pedro Luis Luis \n",
            "Luis Miguel Juan Juan \n",
            "Luis Miguel Juan Pedro \n",
            "Luis Miguel Juan Miguel \n",
            "Luis Miguel Juan Luis \n",
            "Luis Miguel Pedro Juan \n",
            "Luis Miguel Pedro Pedro \n",
            "Luis Miguel Pedro Miguel \n",
            "Luis Miguel Pedro Luis \n",
            "Luis Miguel Miguel Juan \n",
            "Luis Miguel Miguel Pedro \n",
            "Luis Miguel Miguel Miguel \n",
            "Luis Miguel Miguel Luis \n",
            "Luis Miguel Luis Juan \n",
            "Luis Miguel Luis Pedro \n",
            "Luis Miguel Luis Miguel \n",
            "Luis Miguel Luis Luis \n",
            "Luis Luis Juan Juan \n",
            "Luis Luis Juan Pedro \n",
            "Luis Luis Juan Miguel \n",
            "Luis Luis Juan Luis \n",
            "Luis Luis Pedro Juan \n",
            "Luis Luis Pedro Pedro \n",
            "Luis Luis Pedro Miguel \n",
            "Luis Luis Pedro Luis \n",
            "Luis Luis Miguel Juan \n",
            "Luis Luis Miguel Pedro \n",
            "Luis Luis Miguel Miguel \n",
            "Luis Luis Miguel Luis \n",
            "Luis Luis Luis Juan \n",
            "Luis Luis Luis Pedro \n",
            "Luis Luis Luis Miguel \n",
            "Luis Luis Luis Luis \n"
          ]
        }
      ]
    },
    {
      "cell_type": "markdown",
      "source": [
        "## Práctica 1.7\n",
        "Invente un caso de **combinaciones sin repetición**.\n",
        "Se pide contestar a los mismos puntos que el caso anterior."
      ],
      "metadata": {
        "id": "opCrIDtJGg1R"
      }
    },
    {
      "cell_type": "markdown",
      "source": [
        "### Solución 1.7"
      ],
      "metadata": {
        "id": "Zs46BsRnkJcl"
      }
    },
    {
      "cell_type": "markdown",
      "source": [
        "Se ha elegido la opción premium en una pastelería esta opción te permite elegir dos sabores de dos tartas pero no puedes elegir dos sabores iguales entonces es cuando buscas las combinaciones posibles."
      ],
      "metadata": {
        "id": "GO02ZbzJfwV2"
      }
    },
    {
      "cell_type": "code",
      "source": [
        "Sabores = [\"Fresa \",\"Chocolate \",\"Vainilla \",\"Limón \",\"Zanahoria \",\"Melocotón \",\"Nutella \",]\n",
        "\n",
        "n = 0\n",
        "combi = []\n",
        "\n",
        "while n < len(Sabores):\n",
        "    for i in Sabores:\n",
        "        for g in Sabores:\n",
        "            if i != g and g + i not in combi:\n",
        "                c = i + g\n",
        "                combi.append(c)\n",
        "                n += 1\n",
        "                print (n,c)"
      ],
      "metadata": {
        "colab": {
          "base_uri": "https://localhost:8080/"
        },
        "id": "sc8wXeOAaWkt",
        "outputId": "81ed4fc9-e3b5-42a1-a038-4f227a66883c"
      },
      "execution_count": null,
      "outputs": [
        {
          "output_type": "stream",
          "name": "stdout",
          "text": [
            "1 Fresa Chocolate \n",
            "2 Fresa Vainilla \n",
            "3 Fresa Limón \n",
            "4 Fresa Zanahoria \n",
            "5 Fresa Melocotón \n",
            "6 Fresa Nutella \n",
            "7 Chocolate Vainilla \n",
            "8 Chocolate Limón \n",
            "9 Chocolate Zanahoria \n",
            "10 Chocolate Melocotón \n",
            "11 Chocolate Nutella \n",
            "12 Vainilla Limón \n",
            "13 Vainilla Zanahoria \n",
            "14 Vainilla Melocotón \n",
            "15 Vainilla Nutella \n",
            "16 Limón Zanahoria \n",
            "17 Limón Melocotón \n",
            "18 Limón Nutella \n",
            "19 Zanahoria Melocotón \n",
            "20 Zanahoria Nutella \n",
            "21 Melocotón Nutella \n"
          ]
        }
      ]
    },
    {
      "cell_type": "markdown",
      "source": [
        "## Práctica 1.8\n",
        "Invente un caso de **combinaciones con repetición**.\n",
        "Se pide contestar a los mismos puntos que el caso anterior."
      ],
      "metadata": {
        "id": "-7Y5WWlDGzAR"
      }
    },
    {
      "cell_type": "markdown",
      "source": [
        "### Solución 1.8"
      ],
      "metadata": {
        "id": "ReRULqd8kL1F"
      }
    },
    {
      "cell_type": "markdown",
      "source": [
        "Los amigos Ana, Bea, Carlos, Delia y Ernesto tienen que elegir como repartirse la tarta en 4 trozos pero como son muy egoistas 1 se va a quedar sin tarta e incluso están dispuestos a robar un trozo por lo que hay que contemplar la posibilidad de que haya una persona que se coma más tarta que el resto."
      ],
      "metadata": {
        "id": "d_v0yooqd8CV"
      }
    },
    {
      "cell_type": "code",
      "source": [
        "from itertools import combinations_with_replacement\n",
        "c = combinations_with_replacement('ABDCE', 4)\n",
        "\n",
        "for i in c:\n",
        "    print(*i)"
      ],
      "metadata": {
        "colab": {
          "base_uri": "https://localhost:8080/"
        },
        "id": "tQBCfDLAaiwG",
        "outputId": "3eae142b-df1a-417d-ad6b-8188128010dd"
      },
      "execution_count": null,
      "outputs": [
        {
          "output_type": "stream",
          "name": "stdout",
          "text": [
            "A A A A\n",
            "A A A B\n",
            "A A A D\n",
            "A A A C\n",
            "A A A E\n",
            "A A B B\n",
            "A A B D\n",
            "A A B C\n",
            "A A B E\n",
            "A A D D\n",
            "A A D C\n",
            "A A D E\n",
            "A A C C\n",
            "A A C E\n",
            "A A E E\n",
            "A B B B\n",
            "A B B D\n",
            "A B B C\n",
            "A B B E\n",
            "A B D D\n",
            "A B D C\n",
            "A B D E\n",
            "A B C C\n",
            "A B C E\n",
            "A B E E\n",
            "A D D D\n",
            "A D D C\n",
            "A D D E\n",
            "A D C C\n",
            "A D C E\n",
            "A D E E\n",
            "A C C C\n",
            "A C C E\n",
            "A C E E\n",
            "A E E E\n",
            "B B B B\n",
            "B B B D\n",
            "B B B C\n",
            "B B B E\n",
            "B B D D\n",
            "B B D C\n",
            "B B D E\n",
            "B B C C\n",
            "B B C E\n",
            "B B E E\n",
            "B D D D\n",
            "B D D C\n",
            "B D D E\n",
            "B D C C\n",
            "B D C E\n",
            "B D E E\n",
            "B C C C\n",
            "B C C E\n",
            "B C E E\n",
            "B E E E\n",
            "D D D D\n",
            "D D D C\n",
            "D D D E\n",
            "D D C C\n",
            "D D C E\n",
            "D D E E\n",
            "D C C C\n",
            "D C C E\n",
            "D C E E\n",
            "D E E E\n",
            "C C C C\n",
            "C C C E\n",
            "C C E E\n",
            "C E E E\n",
            "E E E E\n"
          ]
        }
      ]
    },
    {
      "cell_type": "markdown",
      "source": [
        "## Práctica 1.9\n",
        "En el gobierno se crea una unidad de crisis formada por el presidente (P) y 4 ministros (A,B,C,D) que se reúnen sentados alrededor de una **mesa redonda**.\n",
        "\n",
        "Se pide:  \n",
        "1. Calcule de cuantas formas pueden llegar a sentarse si el ministro de defensa (D) siempre ha de estar al lado del presidente (P). Escriba la solución en una celda de Markdown utilizando fórmulas en $\\LaTeX$  explicando el caso.\n",
        "2. Cree un programa en Python para calcular el número de casos que se pueden dar al sentarse en la mesa.\n",
        "3. Cree un programa en Python para imprimir todas las posibilidades y numérelas. Por ejemplo:\n",
        "    - 1 PDABC\n",
        "    - 2 PDACB\n",
        "    - 3 PDBCD\n",
        "    - 4 PDBDC\n",
        "    - 5 PDCAB\n",
        "    - 6 PDCBA\n",
        "    - 7 DPABC\n",
        "    - 8 DPACB\n",
        "    - &#20; &#20; &#20; ... ... ...\n"
      ],
      "metadata": {
        "id": "SOzxh_YgHnDG"
      }
    },
    {
      "cell_type": "markdown",
      "source": [
        "### Solución 1.9"
      ],
      "metadata": {
        "id": "F8kV034OkQZX"
      }
    },
    {
      "cell_type": "markdown",
      "source": [
        "## Práctica 1.10\n",
        "* Realice una breve explicación teórica del **triángulo de Pascal**, o también llamado triángulo de Tartaglia, y de las fórmulas de los números combinatorios.\n",
        "* Cree un programa en Python para hacer el triángulo de Pascal."
      ],
      "metadata": {
        "id": "eiHdMOP-MkrZ"
      }
    },
    {
      "cell_type": "markdown",
      "source": [
        "### Solución 1.10"
      ],
      "metadata": {
        "id": "j0UT2579kTSM"
      }
    },
    {
      "cell_type": "code",
      "source": [
        "num = int(input(\"Enter the number of rows:\"))\n",
        "\n",
        "for n in range(num):\n",
        "    print(' '*(num-n), end='')\n",
        "\n",
        "    print(' '.join(map(str, str(11**n))))"
      ],
      "metadata": {
        "colab": {
          "base_uri": "https://localhost:8080/"
        },
        "id": "r_i5hsKec1TN",
        "outputId": "56bd05e0-bd94-45fe-8a44-54a100556bbb"
      },
      "execution_count": null,
      "outputs": [
        {
          "output_type": "stream",
          "name": "stdout",
          "text": [
            "Enter the number of rows:5\n",
            "     1\n",
            "    1 1\n",
            "   1 2 1\n",
            "  1 3 3 1\n",
            " 1 4 6 4 1\n"
          ]
        }
      ]
    }
  ]
}